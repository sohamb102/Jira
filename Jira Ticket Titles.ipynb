{
 "cells": [
  {
   "cell_type": "code",
   "execution_count": 3,
   "id": "6b4fdf43-f9f6-400f-af15-28ebe4209675",
   "metadata": {},
   "outputs": [
    {
     "name": "stdout",
     "output_type": "stream",
     "text": [
      "Title of the ticket 'OPS-8': Login Page\n",
      "Title of the ticket 'OPS-9': Forgot Password\n",
      "Title of the ticket 'OPS-10': Cart Home Page\n",
      "Title of the ticket 'OPS-11': Profile Update\n"
     ]
    }
   ],
   "source": [
    "import requests\n",
    "from urllib.parse import urlparse, parse_qs\n",
    "\n",
    "# Function to extract the ticket key from the Jira ticket URL\n",
    "def extract_ticket_key(jira_url):\n",
    "    parsed_url = urlparse(jira_url)\n",
    "    path_segments = parsed_url.path.split('/')\n",
    "    \n",
    "    # Assuming the ticket key is in the last segment of the path\n",
    "    return path_segments[-1] if path_segments[-1] else path_segments[-2]\n",
    "\n",
    "# Function to get the title of the Jira ticket\n",
    "def get_jira_ticket_title(ticket_key, jira_base_url, username, api_token):\n",
    "    url = f\"{jira_base_url}/rest/api/2/issue/{ticket_key}\"\n",
    "    \n",
    "    response = requests.get(url, auth=(username, api_token))\n",
    "    \n",
    "    if response.status_code == 200:\n",
    "        data = response.json()\n",
    "        return data['fields']['summary']  # This is the title of the ticket\n",
    "    else:\n",
    "        print(f\"Error fetching ticket: {response.status_code} - {response.text}\")\n",
    "        return None\n",
    "\n",
    "# Main function\n",
    "def main():\n",
    "    tickets = ['https://sohamb102-61490.atlassian.net/browse/OPS-8',\n",
    "               'https://sohamb102-61490.atlassian.net/browse/OPS-9',\n",
    "               'https://sohamb102-61490.atlassian.net/browse/OPS-10',\n",
    "               'https://sohamb102-61490.atlassian.net/browse/OPS-11'\n",
    "              ]\n",
    "    \n",
    "    #jira_url = input(\"Enter the Jira ticket URL: \")\n",
    "    jira_base_url = \"https://ramesh123-61490.atlassian.net/\"  # Update with your Jira base URL\n",
    "    username = \"ramesh123@gmail.com\"                          # Update with your Jira username\n",
    "    api_token = \"ATATT3xFfGF0irTCg5bgn_GX_cAAAAAQUEC3ur7K29Vq8_O46okxWKAfse3RWv-EFqTL9Q6yFMgGGH-JE0N_L5A3mLUoHiHHdTOwPB6VYtVA53DMFYKX6bhl9EII7oHBXbi7U1Lfm1lrIu-JTg46RRPouNvF888nzRQ650YKdjAjWyIkaHvU4Xsv08=D558D9C7\"  # Update with your Jira API token\n",
    "\n",
    "    #solution = []\n",
    "    #sol56 = []\n",
    "    for i in tickets:\n",
    "        ticket_key = extract_ticket_key(i)\n",
    "        title = get_jira_ticket_title(ticket_key, jira_base_url, username, api_token)\n",
    "        print(f\"Title of the ticket '{ticket_key}': {title}\")\n",
    "    \n",
    "    #for i in solution:\n",
    "    #    print(f\"Title of the ticket '{ticket_key}': {title}\")\n",
    "\n",
    "if __name__ == \"__main__\":\n",
    "    main()\n"
   ]
  },
  {
   "cell_type": "code",
   "execution_count": null,
   "id": "b2fc28e3-38ab-4270-9cba-48d01c31a601",
   "metadata": {},
   "outputs": [],
   "source": []
  }
 ],
 "metadata": {
  "kernelspec": {
   "display_name": "Python 3 (ipykernel)",
   "language": "python",
   "name": "python3"
  },
  "language_info": {
   "codemirror_mode": {
    "name": "ipython",
    "version": 3
   },
   "file_extension": ".py",
   "mimetype": "text/x-python",
   "name": "python",
   "nbconvert_exporter": "python",
   "pygments_lexer": "ipython3",
   "version": "3.12.4"
  }
 },
 "nbformat": 4,
 "nbformat_minor": 5
}
